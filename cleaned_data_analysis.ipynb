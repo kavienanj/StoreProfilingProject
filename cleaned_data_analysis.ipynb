{
 "cells": [
  {
   "attachments": {},
   "cell_type": "markdown",
   "metadata": {},
   "source": [
    "# Changes made to the Historical-transaction-data.csv\n",
    "- Removed rows with less than 1 quantity_sold value:  8351\n",
    "- No of item_description values generated:  1994\n",
    "- No of invoice_ids generated:  4228\n",
    "\n",
    "## Above changes are saved to a new csv file Historical-transaction-cleaned-data.csv"
   ]
  },
  {
   "cell_type": "code",
   "execution_count": 6,
   "metadata": {},
   "outputs": [],
   "source": [
    "import pandas as pd\n",
    "\n",
    "historical_transactions = pd.read_csv(\"data/Historical-transaction-cleaned-data.csv\")"
   ]
  },
  {
   "cell_type": "code",
   "execution_count": 7,
   "metadata": {},
   "outputs": [
    {
     "data": {
      "text/html": [
       "<div>\n",
       "<style scoped>\n",
       "    .dataframe tbody tr th:only-of-type {\n",
       "        vertical-align: middle;\n",
       "    }\n",
       "\n",
       "    .dataframe tbody tr th {\n",
       "        vertical-align: top;\n",
       "    }\n",
       "\n",
       "    .dataframe thead th {\n",
       "        text-align: right;\n",
       "    }\n",
       "</style>\n",
       "<table border=\"1\" class=\"dataframe\">\n",
       "  <thead>\n",
       "    <tr style=\"text-align: right;\">\n",
       "      <th></th>\n",
       "      <th>item_description</th>\n",
       "      <th>transaction_date</th>\n",
       "      <th>invoice_id</th>\n",
       "      <th>customer_id</th>\n",
       "      <th>shop_id</th>\n",
       "      <th>item_price</th>\n",
       "      <th>quantity_sold</th>\n",
       "    </tr>\n",
       "  </thead>\n",
       "  <tbody>\n",
       "    <tr>\n",
       "      <th>0</th>\n",
       "      <td>ORANGE BARLEY 1.5L</td>\n",
       "      <td>2021-12-11T00:00:00.000Z</td>\n",
       "      <td>147.0</td>\n",
       "      <td>BGXA</td>\n",
       "      <td>SHOP008</td>\n",
       "      <td>220</td>\n",
       "      <td>2</td>\n",
       "    </tr>\n",
       "    <tr>\n",
       "      <th>1</th>\n",
       "      <td>GINGER BEER 1.5L</td>\n",
       "      <td>2021-10-17T00:00:00.000Z</td>\n",
       "      <td>371.0</td>\n",
       "      <td>IA25</td>\n",
       "      <td>SHOP112</td>\n",
       "      <td>220</td>\n",
       "      <td>2</td>\n",
       "    </tr>\n",
       "    <tr>\n",
       "      <th>2</th>\n",
       "      <td>TONIC PET 500ML</td>\n",
       "      <td>2021-12-13T00:00:00.000Z</td>\n",
       "      <td>484.0</td>\n",
       "      <td>VN7V</td>\n",
       "      <td>SHOP008</td>\n",
       "      <td>160</td>\n",
       "      <td>2</td>\n",
       "    </tr>\n",
       "    <tr>\n",
       "      <th>3</th>\n",
       "      <td>CREAM SODA 1L</td>\n",
       "      <td>2021-12-13T00:00:00.000Z</td>\n",
       "      <td>484.0</td>\n",
       "      <td>VN7V</td>\n",
       "      <td>SHOP008</td>\n",
       "      <td>150</td>\n",
       "      <td>2</td>\n",
       "    </tr>\n",
       "    <tr>\n",
       "      <th>4</th>\n",
       "      <td>STRAWBERRY MILK 180ML</td>\n",
       "      <td>2021-10-23T00:00:00.000Z</td>\n",
       "      <td>1310.0</td>\n",
       "      <td>7S00</td>\n",
       "      <td>SHOP112</td>\n",
       "      <td>210</td>\n",
       "      <td>5</td>\n",
       "    </tr>\n",
       "  </tbody>\n",
       "</table>\n",
       "</div>"
      ],
      "text/plain": [
       "        item_description          transaction_date  invoice_id customer_id   \n",
       "0     ORANGE BARLEY 1.5L  2021-12-11T00:00:00.000Z       147.0        BGXA  \\\n",
       "1       GINGER BEER 1.5L  2021-10-17T00:00:00.000Z       371.0        IA25   \n",
       "2        TONIC PET 500ML  2021-12-13T00:00:00.000Z       484.0        VN7V   \n",
       "3          CREAM SODA 1L  2021-12-13T00:00:00.000Z       484.0        VN7V   \n",
       "4  STRAWBERRY MILK 180ML  2021-10-23T00:00:00.000Z      1310.0        7S00   \n",
       "\n",
       "   shop_id  item_price  quantity_sold  \n",
       "0  SHOP008         220              2  \n",
       "1  SHOP112         220              2  \n",
       "2  SHOP008         160              2  \n",
       "3  SHOP008         150              2  \n",
       "4  SHOP112         210              5  "
      ]
     },
     "execution_count": 7,
     "metadata": {},
     "output_type": "execute_result"
    }
   ],
   "source": [
    "historical_transactions.head()"
   ]
  },
  {
   "cell_type": "code",
   "execution_count": 8,
   "metadata": {},
   "outputs": [
    {
     "name": "stdout",
     "output_type": "stream",
     "text": [
      "<class 'pandas.core.frame.DataFrame'>\n",
      "RangeIndex: 465623 entries, 0 to 465622\n",
      "Data columns (total 7 columns):\n",
      " #   Column            Non-Null Count   Dtype  \n",
      "---  ------            --------------   -----  \n",
      " 0   item_description  465623 non-null  object \n",
      " 1   transaction_date  465623 non-null  object \n",
      " 2   invoice_id        465623 non-null  float64\n",
      " 3   customer_id       465623 non-null  object \n",
      " 4   shop_id           465623 non-null  object \n",
      " 5   item_price        465623 non-null  int64  \n",
      " 6   quantity_sold     465623 non-null  int64  \n",
      "dtypes: float64(1), int64(2), object(4)\n",
      "memory usage: 24.9+ MB\n"
     ]
    }
   ],
   "source": [
    "historical_transactions.info()"
   ]
  },
  {
   "cell_type": "code",
   "execution_count": 9,
   "metadata": {},
   "outputs": [
    {
     "data": {
      "text/html": [
       "<div>\n",
       "<style scoped>\n",
       "    .dataframe tbody tr th:only-of-type {\n",
       "        vertical-align: middle;\n",
       "    }\n",
       "\n",
       "    .dataframe tbody tr th {\n",
       "        vertical-align: top;\n",
       "    }\n",
       "\n",
       "    .dataframe thead th {\n",
       "        text-align: right;\n",
       "    }\n",
       "</style>\n",
       "<table border=\"1\" class=\"dataframe\">\n",
       "  <thead>\n",
       "    <tr style=\"text-align: right;\">\n",
       "      <th></th>\n",
       "      <th>invoice_id</th>\n",
       "      <th>item_price</th>\n",
       "      <th>quantity_sold</th>\n",
       "    </tr>\n",
       "  </thead>\n",
       "  <tbody>\n",
       "    <tr>\n",
       "      <th>count</th>\n",
       "      <td>4.656230e+05</td>\n",
       "      <td>465623.000000</td>\n",
       "      <td>465623.000000</td>\n",
       "    </tr>\n",
       "    <tr>\n",
       "      <th>mean</th>\n",
       "      <td>2.080991e+06</td>\n",
       "      <td>207.493713</td>\n",
       "      <td>1.960066</td>\n",
       "    </tr>\n",
       "    <tr>\n",
       "      <th>std</th>\n",
       "      <td>1.520811e+06</td>\n",
       "      <td>167.877778</td>\n",
       "      <td>1.628437</td>\n",
       "    </tr>\n",
       "    <tr>\n",
       "      <th>min</th>\n",
       "      <td>1.700000e+01</td>\n",
       "      <td>35.000000</td>\n",
       "      <td>1.000000</td>\n",
       "    </tr>\n",
       "    <tr>\n",
       "      <th>25%</th>\n",
       "      <td>1.038512e+06</td>\n",
       "      <td>100.000000</td>\n",
       "      <td>1.000000</td>\n",
       "    </tr>\n",
       "    <tr>\n",
       "      <th>50%</th>\n",
       "      <td>2.046136e+06</td>\n",
       "      <td>200.000000</td>\n",
       "      <td>2.000000</td>\n",
       "    </tr>\n",
       "    <tr>\n",
       "      <th>75%</th>\n",
       "      <td>3.070249e+06</td>\n",
       "      <td>220.000000</td>\n",
       "      <td>2.000000</td>\n",
       "    </tr>\n",
       "    <tr>\n",
       "      <th>max</th>\n",
       "      <td>8.335982e+06</td>\n",
       "      <td>17400.000000</td>\n",
       "      <td>101.000000</td>\n",
       "    </tr>\n",
       "  </tbody>\n",
       "</table>\n",
       "</div>"
      ],
      "text/plain": [
       "         invoice_id     item_price  quantity_sold\n",
       "count  4.656230e+05  465623.000000  465623.000000\n",
       "mean   2.080991e+06     207.493713       1.960066\n",
       "std    1.520811e+06     167.877778       1.628437\n",
       "min    1.700000e+01      35.000000       1.000000\n",
       "25%    1.038512e+06     100.000000       1.000000\n",
       "50%    2.046136e+06     200.000000       2.000000\n",
       "75%    3.070249e+06     220.000000       2.000000\n",
       "max    8.335982e+06   17400.000000     101.000000"
      ]
     },
     "execution_count": 9,
     "metadata": {},
     "output_type": "execute_result"
    }
   ],
   "source": [
    "historical_transactions.describe()"
   ]
  },
  {
   "cell_type": "code",
   "execution_count": 10,
   "metadata": {},
   "outputs": [
    {
     "name": "stdout",
     "output_type": "stream",
     "text": [
      "\n",
      "* Historical-transaction-cleaned-data.csv SUMMARY *\n",
      "\n",
      "item_description, transaction_date, invoice_id, customer_id, shop_id, item_price, quantity_sold are the column names\n",
      "465623 total rows\n",
      "124 unique shop_id\n",
      "2031 unique item_description\n",
      "62 unique transaction_date\n",
      "209 unique item_price\n",
      "67 unique quantity_sold\n"
     ]
    }
   ],
   "source": [
    "print(\"\\n* Historical-transaction-cleaned-data.csv SUMMARY *\\n\")\n",
    "# Column names\n",
    "print(f\"{', '.join(historical_transactions.columns.tolist())} are the column names\")\n",
    "# No of rows\n",
    "print(f\"{len(historical_transactions)} total rows\")\n",
    "\n",
    "# Unique shop ids\n",
    "shop_ids = historical_transactions[\"shop_id\"].unique()\n",
    "print(f\"{len(shop_ids)} unique shop_id\")\n",
    "\n",
    "# Unique items\n",
    "item_ids = historical_transactions[\"item_description\"].unique()\n",
    "print(f\"{len(item_ids)} unique item_description\")\n",
    "\n",
    "# Unique transaction date\n",
    "transaction_dates = historical_transactions[\"transaction_date\"].unique()\n",
    "print(f\"{len(transaction_dates)} unique transaction_date\")\n",
    "\n",
    "# Unique item price\n",
    "item_prices = historical_transactions[\"item_price\"].unique()\n",
    "print(f\"{len(item_prices)} unique item_price\")\n",
    "\n",
    "# Unique quantity sold\n",
    "quantities_sold = historical_transactions[\"quantity_sold\"].unique()\n",
    "print(f\"{len(quantities_sold)} unique quantity_sold\")"
   ]
  },
  {
   "attachments": {},
   "cell_type": "markdown",
   "metadata": {},
   "source": [
    "## The Historical-transaction-cleaned-data.csv summary indicates that the cleaning process was successful. Here is the updated summary:\n",
    "- 473,962 total rows\n",
    "- 124 unique shop_id\n",
    "- 2,031 unique item_description (Now includes the generated product names for rows with missing item_description)\n",
    "- 62 unique transaction_date\n",
    "- 209 unique item_price\n",
    "- 68 unique quantity_sold (No longer includes -1 as a value)\n",
    "\n",
    "## This cleaned dataset should be more suitable for analysis and generating features to make better predictions."
   ]
  }
 ],
 "metadata": {
  "kernelspec": {
   "display_name": "env",
   "language": "python",
   "name": "python3"
  },
  "language_info": {
   "codemirror_mode": {
    "name": "ipython",
    "version": 3
   },
   "file_extension": ".py",
   "mimetype": "text/x-python",
   "name": "python",
   "nbconvert_exporter": "python",
   "pygments_lexer": "ipython3",
   "version": "3.10.5"
  },
  "orig_nbformat": 4
 },
 "nbformat": 4,
 "nbformat_minor": 2
}
