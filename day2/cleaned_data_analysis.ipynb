{
 "cells": [
  {
   "attachments": {},
   "cell_type": "markdown",
   "metadata": {},
   "source": [
    "# Changes made to the Historical-transaction-data.csv\n",
    "- Initial rows:  473974\n",
    "- Removed lines with null values: 41865\n",
    "- Removed rows with outlier item_price value:  14284\n",
    "- Removed rows with outlier quantity_sold value:  8415\n",
    "- Writing rows:  409410\n",
    "\n",
    "## Above changes are saved to a new csv file Historical-transaction-cleaned-data.csv"
   ]
  },
  {
   "cell_type": "code",
   "execution_count": 10,
   "metadata": {},
   "outputs": [],
   "source": [
    "import pandas as pd\n",
    "import seaborn as sns\n",
    "\n",
    "historical_transactions = pd.read_csv(\"../data/Historical-transaction-cleaned-data.csv\")\n",
    "historical_transactions[\"invoice_id\"] = historical_transactions[\"invoice_id\"].astype(int)\n",
    "historical_transactions[\"transaction_date\"] = pd.to_datetime(historical_transactions[\"transaction_date\"])\n",
    "historical_transactions.sort_values(by='transaction_date', inplace=True)"
   ]
  },
  {
   "cell_type": "code",
   "execution_count": 11,
   "metadata": {},
   "outputs": [
    {
     "data": {
      "text/html": [
       "<div>\n",
       "<style scoped>\n",
       "    .dataframe tbody tr th:only-of-type {\n",
       "        vertical-align: middle;\n",
       "    }\n",
       "\n",
       "    .dataframe tbody tr th {\n",
       "        vertical-align: top;\n",
       "    }\n",
       "\n",
       "    .dataframe thead th {\n",
       "        text-align: right;\n",
       "    }\n",
       "</style>\n",
       "<table border=\"1\" class=\"dataframe\">\n",
       "  <thead>\n",
       "    <tr style=\"text-align: right;\">\n",
       "      <th></th>\n",
       "      <th>invoice_id</th>\n",
       "      <th>item_price</th>\n",
       "      <th>quantity_sold</th>\n",
       "    </tr>\n",
       "  </thead>\n",
       "  <tbody>\n",
       "    <tr>\n",
       "      <th>count</th>\n",
       "      <td>4.094100e+05</td>\n",
       "      <td>409410.000000</td>\n",
       "      <td>409410.000000</td>\n",
       "    </tr>\n",
       "    <tr>\n",
       "      <th>mean</th>\n",
       "      <td>2.000923e+06</td>\n",
       "      <td>190.044173</td>\n",
       "      <td>1.760516</td>\n",
       "    </tr>\n",
       "    <tr>\n",
       "      <th>std</th>\n",
       "      <td>1.344488e+06</td>\n",
       "      <td>102.158777</td>\n",
       "      <td>0.819901</td>\n",
       "    </tr>\n",
       "    <tr>\n",
       "      <th>min</th>\n",
       "      <td>1.700000e+01</td>\n",
       "      <td>35.000000</td>\n",
       "      <td>1.000000</td>\n",
       "    </tr>\n",
       "    <tr>\n",
       "      <th>25%</th>\n",
       "      <td>1.033476e+06</td>\n",
       "      <td>100.000000</td>\n",
       "      <td>1.000000</td>\n",
       "    </tr>\n",
       "    <tr>\n",
       "      <th>50%</th>\n",
       "      <td>2.035128e+06</td>\n",
       "      <td>210.000000</td>\n",
       "      <td>2.000000</td>\n",
       "    </tr>\n",
       "    <tr>\n",
       "      <th>75%</th>\n",
       "      <td>3.034716e+06</td>\n",
       "      <td>220.000000</td>\n",
       "      <td>2.000000</td>\n",
       "    </tr>\n",
       "    <tr>\n",
       "      <th>max</th>\n",
       "      <td>8.331336e+06</td>\n",
       "      <td>650.000000</td>\n",
       "      <td>8.000000</td>\n",
       "    </tr>\n",
       "  </tbody>\n",
       "</table>\n",
       "</div>"
      ],
      "text/plain": [
       "         invoice_id     item_price  quantity_sold\n",
       "count  4.094100e+05  409410.000000  409410.000000\n",
       "mean   2.000923e+06     190.044173       1.760516\n",
       "std    1.344488e+06     102.158777       0.819901\n",
       "min    1.700000e+01      35.000000       1.000000\n",
       "25%    1.033476e+06     100.000000       1.000000\n",
       "50%    2.035128e+06     210.000000       2.000000\n",
       "75%    3.034716e+06     220.000000       2.000000\n",
       "max    8.331336e+06     650.000000       8.000000"
      ]
     },
     "execution_count": 11,
     "metadata": {},
     "output_type": "execute_result"
    }
   ],
   "source": [
    "historical_transactions.describe()"
   ]
  },
  {
   "cell_type": "code",
   "execution_count": 12,
   "metadata": {},
   "outputs": [
    {
     "name": "stdout",
     "output_type": "stream",
     "text": [
      "<class 'pandas.core.frame.DataFrame'>\n",
      "Index: 409410 entries, 36662 to 23161\n",
      "Data columns (total 7 columns):\n",
      " #   Column            Non-Null Count   Dtype              \n",
      "---  ------            --------------   -----              \n",
      " 0   item_description  409410 non-null  object             \n",
      " 1   transaction_date  409410 non-null  datetime64[ns, UTC]\n",
      " 2   invoice_id        409410 non-null  int64              \n",
      " 3   customer_id       409410 non-null  object             \n",
      " 4   shop_id           409410 non-null  object             \n",
      " 5   item_price        409410 non-null  int64              \n",
      " 6   quantity_sold     409410 non-null  int64              \n",
      "dtypes: datetime64[ns, UTC](1), int64(3), object(3)\n",
      "memory usage: 25.0+ MB\n"
     ]
    }
   ],
   "source": [
    "historical_transactions.info()"
   ]
  },
  {
   "cell_type": "code",
   "execution_count": 25,
   "metadata": {},
   "outputs": [
    {
     "data": {
      "text/plain": [
       "150119"
      ]
     },
     "execution_count": 25,
     "metadata": {},
     "output_type": "execute_result"
    }
   ],
   "source": [
    "historical_transactions['sales'] = historical_transactions['item_price'] * historical_transactions['quantity_sold']\n",
    "historical_transactions['weekend_transaction'] = historical_transactions['transaction_date'].dt.weekday > 4\n",
    "historical_transactions['weekend_transaction'].value_counts()[True]"
   ]
  },
  {
   "attachments": {},
   "cell_type": "markdown",
   "metadata": {},
   "source": [
    "# List of features to generate from the Historical-transaction-cleaned-data.csv:\n",
    "\n",
    "1. Total sales per shop: Calculate the sum of sales of all transactions for each shop.\n",
    "2. Total quantity sold per shop: Calculate the total quantity of items sold per shop.\n",
    "3. Mean item price per shop: Calculate the mean value of prices per shop.\n",
    "4. Total bills per shop: Calculate number of unique invoices for each shop.\n",
    "5. Total transactions per shop: Calculate the total number of transactions per shop.\n",
    "6. Total unique items sold per shop: Calculate the number of unique item_descriptions per shop.\n",
    "7. Total unique customers per shop: Calculate the number of unique customer_ids per shop.\n",
    "8. Total weekday transactions per shop: Calculate the number of transactions occured in weekdays per shop.\n",
    "9. Total weekend transactions per shop: Calculate the number of transactions occured in weekend per shop.\n",
    "\n",
    "These features should provide a comprehensive view of the transaction data and help improve the performance of your predictive model. Remember to merge these features with the Store-info.csv dataset based on the shop_id before training your model."
   ]
  }
 ],
 "metadata": {
  "kernelspec": {
   "display_name": "env",
   "language": "python",
   "name": "python3"
  },
  "language_info": {
   "codemirror_mode": {
    "name": "ipython",
    "version": 3
   },
   "file_extension": ".py",
   "mimetype": "text/x-python",
   "name": "python",
   "nbconvert_exporter": "python",
   "pygments_lexer": "ipython3",
   "version": "3.10.5"
  },
  "orig_nbformat": 4
 },
 "nbformat": 4,
 "nbformat_minor": 2
}
