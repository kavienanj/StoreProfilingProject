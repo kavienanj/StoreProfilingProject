{
 "cells": [
  {
   "cell_type": "code",
   "execution_count": 1,
   "id": "e7ae5778",
   "metadata": {},
   "outputs": [],
   "source": [
    "import pandas as pd\n",
    "\n",
    "historical_transactions = pd.read_csv(\"data/Historical-transaction-data.csv\")\n",
    "store_info = pd.read_csv(\"data/Store-info.csv\")\n",
    "testing_data = pd.read_csv(\"data/Testing-data.csv\")"
   ]
  },
  {
   "cell_type": "code",
   "execution_count": null,
   "id": "284a9456",
   "metadata": {},
   "outputs": [],
   "source": [
    "# Check the first few rows of each DataFrame\n",
    "print(\"Check the first few rows of each DataFrame\")\n",
    "print(historical_transactions.head())\n",
    "print(store_info.head())\n",
    "print(testing_data.head())\n",
    "\n",
    "# Display DataFrame info (number of columns, data types, and non-null values)\n",
    "print(\"\\nDisplay DataFrame info (number of columns, data types, and non-null values)\")\n",
    "print(historical_transactions.info())\n",
    "print(store_info.info())\n",
    "print(testing_data.info())\n",
    "\n",
    "# Generate summary statistics for each DataFrame\n",
    "print(\"\\nGenerate summary statistics for each DataFrame\")\n",
    "print(historical_transactions.describe())\n",
    "print(store_info.describe())\n",
    "print(testing_data.describe())"
   ]
  },
  {
   "cell_type": "markdown",
   "id": "cf5af954",
   "metadata": {},
   "source": [
    "- There are missing values in the item_description and invoice_id columns of the historical_transactions DataFrame.\n",
    "- There are missing values in the shop_profile column of the store_info DataFrame.\n",
    "- The shop_profile column in the testing_data DataFrame is empty, which is expected, as this is the target variable you'll be predicting.\n",
    "- Now, you can proceed with cleaning and preprocessing the data.\n",
    "\n",
    "# Data Cleaning and Preprocessing:\n",
    "\n",
    "## 3.1. Handling Missing Values:\n",
    "1. For the missing item_description values, you can decide whether to fill them using a suitable strategy (e.g., mode) or drop the rows with missing values, depending on the importance of this feature in your analysis.\n",
    "2. For the missing invoice_id values, you can decide whether to fill them using a suitable strategy (e.g., median) or drop the rows with missing values.\n",
    "3. For the missing shop_profile values in the store_info DataFrame, you can either use an appropriate filling strategy (e.g., mode) or leave them as they are if you plan to handle missing values in a different way during the modeling phase.\n",
    "\n",
    "## 3.2. Feature Engineering:\n",
    "1. Extract relevant features from the transaction_date column, such as month, day, or day of the week.\n",
    "2. Create new features that might be useful for the analysis, such as total sales per store, average sales per customer, etc.\n",
    "\n",
    "## 3.3. Data Transformation:\n",
    "1. Convert categorical variables into numerical representations, like one-hot encoding or label encoding, if required by your chosen model.\n",
    "2. Normalize or standardize numerical features if needed."
   ]
  },
  {
   "cell_type": "code",
   "execution_count": null,
   "id": "75577ceb",
   "metadata": {},
   "outputs": [],
   "source": []
  }
 ],
 "metadata": {
  "kernelspec": {
   "display_name": "Python 3 (ipykernel)",
   "language": "python",
   "name": "python3"
  },
  "language_info": {
   "codemirror_mode": {
    "name": "ipython",
    "version": 3
   },
   "file_extension": ".py",
   "mimetype": "text/x-python",
   "name": "python",
   "nbconvert_exporter": "python",
   "pygments_lexer": "ipython3",
   "version": "3.10.5"
  }
 },
 "nbformat": 4,
 "nbformat_minor": 5
}
