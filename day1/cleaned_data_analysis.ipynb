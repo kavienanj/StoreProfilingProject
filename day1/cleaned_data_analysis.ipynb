{
 "cells": [
  {
   "attachments": {},
   "cell_type": "markdown",
   "metadata": {},
   "source": [
    "# Changes made to the Historical-transaction-data.csv\n",
    "- Removed rows with less than 1 quantity_sold value:  8351\n",
    "- No of item_description values generated:  1994\n",
    "- No of invoice_ids generated:  4228\n",
    "\n",
    "## Above changes are saved to a new csv file Historical-transaction-cleaned-data.csv"
   ]
  },
  {
   "cell_type": "code",
   "execution_count": 2,
   "metadata": {},
   "outputs": [],
   "source": [
    "import pandas as pd\n",
    "import seaborn as sns\n",
    "\n",
    "historical_transactions = pd.read_csv(\"../data/Historical-transaction-cleaned-data.csv\")\n",
    "historical_transactions[\"invoice_id\"] = historical_transactions[\"invoice_id\"].astype(int)\n",
    "historical_transactions[\"transaction_date\"] = pd.to_datetime(historical_transactions[\"transaction_date\"])\n",
    "historical_transactions.sort_values(by='transaction_date', inplace=True)"
   ]
  },
  {
   "cell_type": "code",
   "execution_count": 3,
   "metadata": {},
   "outputs": [
    {
     "data": {
      "text/html": [
       "<div>\n",
       "<style scoped>\n",
       "    .dataframe tbody tr th:only-of-type {\n",
       "        vertical-align: middle;\n",
       "    }\n",
       "\n",
       "    .dataframe tbody tr th {\n",
       "        vertical-align: top;\n",
       "    }\n",
       "\n",
       "    .dataframe thead th {\n",
       "        text-align: right;\n",
       "    }\n",
       "</style>\n",
       "<table border=\"1\" class=\"dataframe\">\n",
       "  <thead>\n",
       "    <tr style=\"text-align: right;\">\n",
       "      <th></th>\n",
       "      <th>item_description</th>\n",
       "      <th>transaction_date</th>\n",
       "      <th>invoice_id</th>\n",
       "      <th>customer_id</th>\n",
       "      <th>shop_id</th>\n",
       "      <th>item_price</th>\n",
       "      <th>quantity_sold</th>\n",
       "    </tr>\n",
       "  </thead>\n",
       "  <tbody>\n",
       "    <tr>\n",
       "      <th>168929</th>\n",
       "      <td>GINGER BEER 1L</td>\n",
       "      <td>2021-10-15 00:00:00+00:00</td>\n",
       "      <td>2156337</td>\n",
       "      <td>YD1K</td>\n",
       "      <td>SHOP043</td>\n",
       "      <td>150</td>\n",
       "      <td>2</td>\n",
       "    </tr>\n",
       "    <tr>\n",
       "      <th>123031</th>\n",
       "      <td>CREAM SODA APPLE POP 1L</td>\n",
       "      <td>2021-10-15 00:00:00+00:00</td>\n",
       "      <td>2284533</td>\n",
       "      <td>UFWU</td>\n",
       "      <td>SHOP121</td>\n",
       "      <td>150</td>\n",
       "      <td>2</td>\n",
       "    </tr>\n",
       "    <tr>\n",
       "      <th>110010</th>\n",
       "      <td>GINGER BEER 500ML</td>\n",
       "      <td>2021-10-15 00:00:00+00:00</td>\n",
       "      <td>1985977</td>\n",
       "      <td>IA4W</td>\n",
       "      <td>SHOP038</td>\n",
       "      <td>100</td>\n",
       "      <td>1</td>\n",
       "    </tr>\n",
       "    <tr>\n",
       "      <th>212775</th>\n",
       "      <td>FIT O MIXED FRUIT 200ML</td>\n",
       "      <td>2021-10-15 00:00:00+00:00</td>\n",
       "      <td>1253209</td>\n",
       "      <td>SXQW</td>\n",
       "      <td>SHOP097</td>\n",
       "      <td>60</td>\n",
       "      <td>1</td>\n",
       "    </tr>\n",
       "    <tr>\n",
       "      <th>123030</th>\n",
       "      <td>ORANGE BARLEY 1.5L</td>\n",
       "      <td>2021-10-15 00:00:00+00:00</td>\n",
       "      <td>2284495</td>\n",
       "      <td>4KZY</td>\n",
       "      <td>SHOP121</td>\n",
       "      <td>220</td>\n",
       "      <td>1</td>\n",
       "    </tr>\n",
       "  </tbody>\n",
       "</table>\n",
       "</div>"
      ],
      "text/plain": [
       "               item_description          transaction_date  invoice_id   \n",
       "168929           GINGER BEER 1L 2021-10-15 00:00:00+00:00     2156337  \\\n",
       "123031  CREAM SODA APPLE POP 1L 2021-10-15 00:00:00+00:00     2284533   \n",
       "110010        GINGER BEER 500ML 2021-10-15 00:00:00+00:00     1985977   \n",
       "212775  FIT O MIXED FRUIT 200ML 2021-10-15 00:00:00+00:00     1253209   \n",
       "123030       ORANGE BARLEY 1.5L 2021-10-15 00:00:00+00:00     2284495   \n",
       "\n",
       "       customer_id  shop_id  item_price  quantity_sold  \n",
       "168929        YD1K  SHOP043         150              2  \n",
       "123031        UFWU  SHOP121         150              2  \n",
       "110010        IA4W  SHOP038         100              1  \n",
       "212775        SXQW  SHOP097          60              1  \n",
       "123030        4KZY  SHOP121         220              1  "
      ]
     },
     "execution_count": 3,
     "metadata": {},
     "output_type": "execute_result"
    }
   ],
   "source": [
    "historical_transactions.head()"
   ]
  },
  {
   "cell_type": "code",
   "execution_count": 4,
   "metadata": {},
   "outputs": [
    {
     "name": "stdout",
     "output_type": "stream",
     "text": [
      "<class 'pandas.core.frame.DataFrame'>\n",
      "Index: 465623 entries, 168929 to 424435\n",
      "Data columns (total 7 columns):\n",
      " #   Column            Non-Null Count   Dtype              \n",
      "---  ------            --------------   -----              \n",
      " 0   item_description  465623 non-null  object             \n",
      " 1   transaction_date  465623 non-null  datetime64[ns, UTC]\n",
      " 2   invoice_id        465623 non-null  int64              \n",
      " 3   customer_id       465623 non-null  object             \n",
      " 4   shop_id           465623 non-null  object             \n",
      " 5   item_price        465623 non-null  int64              \n",
      " 6   quantity_sold     465623 non-null  int64              \n",
      "dtypes: datetime64[ns, UTC](1), int64(3), object(3)\n",
      "memory usage: 28.4+ MB\n"
     ]
    }
   ],
   "source": [
    "historical_transactions.info()"
   ]
  },
  {
   "cell_type": "code",
   "execution_count": 5,
   "metadata": {},
   "outputs": [
    {
     "data": {
      "text/html": [
       "<div>\n",
       "<style scoped>\n",
       "    .dataframe tbody tr th:only-of-type {\n",
       "        vertical-align: middle;\n",
       "    }\n",
       "\n",
       "    .dataframe tbody tr th {\n",
       "        vertical-align: top;\n",
       "    }\n",
       "\n",
       "    .dataframe thead th {\n",
       "        text-align: right;\n",
       "    }\n",
       "</style>\n",
       "<table border=\"1\" class=\"dataframe\">\n",
       "  <thead>\n",
       "    <tr style=\"text-align: right;\">\n",
       "      <th></th>\n",
       "      <th>invoice_id</th>\n",
       "      <th>item_price</th>\n",
       "      <th>quantity_sold</th>\n",
       "    </tr>\n",
       "  </thead>\n",
       "  <tbody>\n",
       "    <tr>\n",
       "      <th>count</th>\n",
       "      <td>4.656230e+05</td>\n",
       "      <td>465623.000000</td>\n",
       "      <td>465623.000000</td>\n",
       "    </tr>\n",
       "    <tr>\n",
       "      <th>mean</th>\n",
       "      <td>2.080991e+06</td>\n",
       "      <td>207.493713</td>\n",
       "      <td>1.960066</td>\n",
       "    </tr>\n",
       "    <tr>\n",
       "      <th>std</th>\n",
       "      <td>1.520811e+06</td>\n",
       "      <td>167.877778</td>\n",
       "      <td>1.628437</td>\n",
       "    </tr>\n",
       "    <tr>\n",
       "      <th>min</th>\n",
       "      <td>1.700000e+01</td>\n",
       "      <td>35.000000</td>\n",
       "      <td>1.000000</td>\n",
       "    </tr>\n",
       "    <tr>\n",
       "      <th>25%</th>\n",
       "      <td>1.038512e+06</td>\n",
       "      <td>100.000000</td>\n",
       "      <td>1.000000</td>\n",
       "    </tr>\n",
       "    <tr>\n",
       "      <th>50%</th>\n",
       "      <td>2.046136e+06</td>\n",
       "      <td>200.000000</td>\n",
       "      <td>2.000000</td>\n",
       "    </tr>\n",
       "    <tr>\n",
       "      <th>75%</th>\n",
       "      <td>3.070249e+06</td>\n",
       "      <td>220.000000</td>\n",
       "      <td>2.000000</td>\n",
       "    </tr>\n",
       "    <tr>\n",
       "      <th>max</th>\n",
       "      <td>8.335982e+06</td>\n",
       "      <td>17400.000000</td>\n",
       "      <td>101.000000</td>\n",
       "    </tr>\n",
       "  </tbody>\n",
       "</table>\n",
       "</div>"
      ],
      "text/plain": [
       "         invoice_id     item_price  quantity_sold\n",
       "count  4.656230e+05  465623.000000  465623.000000\n",
       "mean   2.080991e+06     207.493713       1.960066\n",
       "std    1.520811e+06     167.877778       1.628437\n",
       "min    1.700000e+01      35.000000       1.000000\n",
       "25%    1.038512e+06     100.000000       1.000000\n",
       "50%    2.046136e+06     200.000000       2.000000\n",
       "75%    3.070249e+06     220.000000       2.000000\n",
       "max    8.335982e+06   17400.000000     101.000000"
      ]
     },
     "execution_count": 5,
     "metadata": {},
     "output_type": "execute_result"
    }
   ],
   "source": [
    "historical_transactions.describe()"
   ]
  },
  {
   "cell_type": "code",
   "execution_count": 6,
   "metadata": {},
   "outputs": [
    {
     "name": "stdout",
     "output_type": "stream",
     "text": [
      "\n",
      "* Historical-transaction-cleaned-data.csv SUMMARY *\n",
      "\n",
      "item_description, transaction_date, invoice_id, customer_id, shop_id, item_price, quantity_sold are the column names\n",
      "465623 total rows\n",
      "124 unique shop_id\n",
      "2031 unique item_description\n",
      "62 unique transaction_date\n",
      "209 unique item_price\n",
      "67 unique quantity_sold\n"
     ]
    }
   ],
   "source": [
    "print(\"\\n* Historical-transaction-cleaned-data.csv SUMMARY *\\n\")\n",
    "# Column names\n",
    "print(f\"{', '.join(historical_transactions.columns.tolist())} are the column names\")\n",
    "# No of rows\n",
    "print(f\"{len(historical_transactions)} total rows\")\n",
    "\n",
    "# Unique shop ids\n",
    "shop_ids = historical_transactions[\"shop_id\"].unique()\n",
    "print(f\"{len(shop_ids)} unique shop_id\")\n",
    "\n",
    "# Unique items\n",
    "item_ids = historical_transactions[\"item_description\"].unique()\n",
    "print(f\"{len(item_ids)} unique item_description\")\n",
    "\n",
    "# Unique transaction date\n",
    "transaction_dates = historical_transactions[\"transaction_date\"].unique()\n",
    "print(f\"{len(transaction_dates)} unique transaction_date\")\n",
    "\n",
    "# Unique item price\n",
    "item_prices = historical_transactions[\"item_price\"].unique()\n",
    "print(f\"{len(item_prices)} unique item_price\")\n",
    "\n",
    "# Unique quantity sold\n",
    "quantities_sold = historical_transactions[\"quantity_sold\"].unique()\n",
    "print(f\"{len(quantities_sold)} unique quantity_sold\")"
   ]
  },
  {
   "cell_type": "code",
   "execution_count": 7,
   "metadata": {},
   "outputs": [
    {
     "name": "stderr",
     "output_type": "stream",
     "text": [
      "/var/folders/d0/m5gt_pdn4n9fxzyw8jv02vcc0000gn/T/ipykernel_1261/1359164938.py:1: UserWarning: Converting to PeriodArray/Index representation will drop timezone information.\n",
      "  historical_transactions['transaction_month'] = historical_transactions['transaction_date'].dt.to_period('M')\n"
     ]
    },
    {
     "data": {
      "image/png": "[encoded data removed]",
      "text/plain": [
       "<Figure size 640x480 with 1 Axes>"
      ]
     },
     "metadata": {},
     "output_type": "display_data"
    }
   ],
   "source": [
    "historical_transactions['transaction_month'] = historical_transactions['transaction_date'].dt.to_period('M')\n",
    "ax = sns.countplot(x=\"transaction_month\", data=historical_transactions)"
   ]
  },
  {
   "cell_type": "code",
   "execution_count": 8,
   "metadata": {},
   "outputs": [
    {
     "data": {
      "image/png": "[encoded data removed]",
      "text/plain": [
       "<Figure size 640x480 with 1 Axes>"
      ]
     },
     "metadata": {},
     "output_type": "display_data"
    }
   ],
   "source": [
    "historical_transactions['transaction_day'] = historical_transactions['transaction_date'].dt.weekday\n",
    "ax = sns.countplot(x=\"transaction_day\", data=historical_transactions)"
   ]
  },
  {
   "cell_type": "code",
   "execution_count": 9,
   "metadata": {},
   "outputs": [
    {
     "data": {
      "image/png": "[encoded data removed]",
      "text/plain": [
       "<Figure size 640x480 with 1 Axes>"
      ]
     },
     "metadata": {},
     "output_type": "display_data"
    }
   ],
   "source": [
    "historical_transactions['transaction_week'] = historical_transactions['transaction_date'].dt.isocalendar().week\n",
    "ax = sns.countplot(x=\"transaction_week\", data=historical_transactions)"
   ]
  },
  {
   "attachments": {},
   "cell_type": "markdown",
   "metadata": {},
   "source": [
    "It's interesting to note that the transactions only occurred in October, November, and December of 2021. The fact that transactions are evenly distributed across all weeks and weekdays indicates that there might not be any specific seasonality or day-of-week trends in the dataset.\n",
    "\n",
    "However, it's still important to consider these factors when generating features for your predictive model, as other patterns might emerge when combining transaction_date with other columns, such as shop_id or item_description. Additionally, keep in mind that the limited timeframe of the dataset might limit your ability to identify long-term trends or seasonality."
   ]
  },
  {
   "attachments": {},
   "cell_type": "markdown",
   "metadata": {},
   "source": [
    "# List of features to generate from the Historical-transaction-cleaned-data.csv:\n",
    "\n",
    "1. Total sales per shop: Calculate the sum of sales of all transactions for each shop.\n",
    "2. Total quantity sold per shop: Calculate the total quantity of items sold per shop.\n",
    "3. Total bills per shop: Calculate the sum of invoices for each shop.\n",
    "4. Total transactions per shop: Calculate the total number of transactions per shop.\n",
    "5. Total unique items sold per shop: Calculate the number of unique item_descriptions per shop.\n",
    "6. Total unique customers per shop: Calculate the number of unique customer_ids per shop.\n",
    "7. Total weeks per shop: Calculate sum of weeks containing atleast one transaction for each shop.\n",
    "8. Total days per shop: Calculate sum of days containing atleast one transaction for each shop.\n",
    "\n",
    "These features should provide a comprehensive view of the transaction data and help improve the performance of your predictive model. Remember to merge these features with the Store-info.csv dataset based on the shop_id before training your model."
   ]
  }
 ],
 "metadata": {
  "kernelspec": {
   "display_name": "env",
   "language": "python",
   "name": "python3"
  },
  "language_info": {
   "codemirror_mode": {
    "name": "ipython",
    "version": 3
   },
   "file_extension": ".py",
   "mimetype": "text/x-python",
   "name": "python",
   "nbconvert_exporter": "python",
   "pygments_lexer": "ipython3",
   "version": "3.10.5"
  },
  "orig_nbformat": 4
 },
 "nbformat": 4,
 "nbformat_minor": 2
}
